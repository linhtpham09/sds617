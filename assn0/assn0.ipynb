{
 "cells": [
  {
   "cell_type": "markdown",
   "id": "3a8c0244-8676-4674-866e-a5755c5ee789",
   "metadata": {},
   "source": [
    "# S&DS 617 Assignment 0\n",
    "\n",
    "The goal of this assignment is to set up your OpenAI key and get familiar with how to use it in Python. \n",
    "\n",
    "To begin, please first follow instructions in README.md. Then, run the below cells and edit when necessary. Make sure you understand each line of the code. "
   ]
  },
  {
   "cell_type": "markdown",
   "id": "7ca77993-82b3-493f-8179-4398348e76d9",
   "metadata": {
    "tags": []
   },
   "source": [
    "## Problem 1: Set Up OpenAI API Key\n",
    "\n",
    "Get the API key from your environment. If the API key is not found, ensure that you are starting Jupyter Lab or VS Code from the same terminal session where you set the environment variable. Environment variables are session-specific."
   ]
  },
  {
   "cell_type": "code",
   "execution_count": 1,
   "id": "0cdea0c4-45e2-4441-9aa2-6e75bf2ce814",
   "metadata": {},
   "outputs": [],
   "source": [
    "import openai\n",
    "import os\n",
    "from dotenv import load_dotenv"
   ]
  },
  {
   "cell_type": "code",
   "execution_count": 2,
   "id": "1cf8320b-9dd6-4493-ba4f-1752c749d673",
   "metadata": {},
   "outputs": [
    {
     "name": "stdout",
     "output_type": "stream",
     "text": [
      "OpenAI API Key loaded successfully!\n"
     ]
    }
   ],
   "source": [
    "# Load environment variables from the .env file\n",
    "load_dotenv()\n",
    "\n",
    "# Access the OpenAI API key\n",
    "openai_api_key = os.getenv(\"OPENAI_API_KEY\")\n",
    "\n",
    "# Use the API key\n",
    "if openai_api_key:\n",
    "    print(\"OpenAI API Key loaded successfully!\")\n",
    "else:\n",
    "    print(\"OpenAI API Key not found. Please check your .env file.\")\n"
   ]
  },
  {
   "cell_type": "markdown",
   "id": "a666a5ea-de31-4366-851a-d1e4b0a5fc9f",
   "metadata": {},
   "source": [
    "## Problem 2: Use the Model\n",
    "\n",
    "Now that the API key is set, we can chat with the model. "
   ]
  },
  {
   "cell_type": "code",
   "execution_count": 3,
   "id": "cd646f1d-6b81-4d61-b001-41dc1ecfd4e6",
   "metadata": {},
   "outputs": [
    {
     "name": "stdout",
     "output_type": "stream",
     "text": [
      "This is a test.\n"
     ]
    }
   ],
   "source": [
    "\n",
    "# Set up the OpenAI client\n",
    "client = openai.OpenAI(api_key=os.environ.get(\"OPENAI_API_KEY\"))\n",
    "\n",
    "# Make a chat completion request\n",
    "chat_completion = client.chat.completions.create(\n",
    "    messages=[\n",
    "        {\n",
    "            \"role\": \"user\",\n",
    "            \"content\": \"Say this is a test\",\n",
    "        }\n",
    "    ],\n",
    "    model=\"gpt-4o\",  # Specify the model\n",
    ")\n",
    "\n",
    "# Access the response content using attributes\n",
    "response_content = chat_completion.choices[0].message.content\n",
    "print(response_content)\n"
   ]
  },
  {
   "cell_type": "markdown",
   "id": "c83274ab-c607-4c33-8cf0-b2cde23c2103",
   "metadata": {},
   "source": [
    "Ask the model anything! \n",
    "For example, you can ask it to write a song, tell a joke, create a recipe, give travel recommendations, etc. Play around with the model and be creative!"
   ]
  },
  {
   "cell_type": "markdown",
   "id": "f09ed398-84b0-4907-92cf-3ce03f58b693",
   "metadata": {},
   "source": [
    "## Problem 3: Providing Context\n",
    "\n",
    "Note we can also give the model extra instructions or information that is not shown to the user directly. To do this we can provide the model with context. "
   ]
  },
  {
   "cell_type": "code",
   "execution_count": 4,
   "id": "af075381-d553-438c-98c4-6a593f931101",
   "metadata": {},
   "outputs": [],
   "source": [
    "# Function to set up OpenAI client\n",
    "def setup_openai_client():\n",
    "    return openai.OpenAI(api_key=os.environ.get(\"OPENAI_API_KEY\"))\n",
    "\n",
    "# Function to get chat response with context\n",
    "def get_chat_response_with_context(client, messages, model=\"gpt-4\"):\n",
    "    \"\"\"\n",
    "    Sends a chat completion request with the given messages and model.\n",
    "\n",
    "    Args:\n",
    "        client: The OpenAI client instance.\n",
    "        messages: A list of message dictionaries containing \"role\" and \"content\".\n",
    "        model: The OpenAI model to use.\n",
    "\n",
    "    Returns:\n",
    "        The response content as a string.\n",
    "    \"\"\"\n",
    "    try:\n",
    "        chat_completion = client.chat.completions.create(\n",
    "            messages=messages,\n",
    "            model=model,\n",
    "        )\n",
    "        return chat_completion.choices[0].message.content\n",
    "    except Exception as e:\n",
    "        print(f\"Error occurred: {e}\")\n",
    "        return None\n",
    "\n",
    "# Function to manage context and make the chat request\n",
    "def run_model_with_context(client, initial_context, user_message, model=\"gpt-4\"):\n",
    "    \"\"\"\n",
    "    Handles the conversation context and sends the request.\n",
    "\n",
    "    Args:\n",
    "        client: The OpenAI client instance.\n",
    "        initial_context: A string providing initial context for the conversation.\n",
    "        user_message: A string containing the user's input.\n",
    "        model: The OpenAI model to use.\n",
    "\n",
    "    Returns:\n",
    "        The response content as a string.\n",
    "    \"\"\"\n",
    "    # Construct the message list\n",
    "    messages = [\n",
    "        {\"role\": \"system\", \"content\": initial_context},\n",
    "        {\"role\": \"user\", \"content\": user_message},\n",
    "    ]\n",
    "\n",
    "    # Get the chat response\n",
    "    return get_chat_response_with_context(client, messages, model)\n",
    "\n"
   ]
  },
  {
   "cell_type": "code",
   "execution_count": 6,
   "id": "340e783c",
   "metadata": {},
   "outputs": [
    {
     "name": "stdout",
     "output_type": "stream",
     "text": [
      "AI Response: For example, you could instruct the model to mimic the speech patterns of an elderly person, emulate an anxious character, emulate the writing style of The Guardian newspaper, etc. The sky's the limit, so get inventive!\n"
     ]
    }
   ],
   "source": [
    "# Set up the OpenAI client\n",
    "client = setup_openai_client()\n",
    "\n",
    "# Define the initial context and user message\n",
    "initial_context = \"\"\"\n",
    "TODO: Edit this!\n",
    "For example, you can tell the model to imitate a 5 year old child, act nervous, \n",
    "write in the style of the New York Times, etc.\n",
    "Again, be creative :)\n",
    "\"\"\"\n",
    "user_message = \"TODO: Edit this!\"\n",
    "\n",
    "\n",
    "# Run the model with context\n",
    "response = run_model_with_context(client, initial_context, user_message)\n",
    "\n",
    "# Print the response\n",
    "if response:\n",
    "    print(\"AI Response:\", response)"
   ]
  },
  {
   "cell_type": "markdown",
   "id": "b114ec6f-342f-4f96-b9a7-2f93283a6756",
   "metadata": {},
   "source": [
    "Briefly comment on your thoughts on the output on the models."
   ]
  },
  {
   "cell_type": "markdown",
   "id": "ca096be0",
   "metadata": {},
   "source": [
    "The output is grammatically correct and something that I would expect to read. Though, I think it overestimates an average person's writing ability. "
   ]
  },
  {
   "cell_type": "markdown",
   "id": "e12d6291",
   "metadata": {},
   "source": []
  }
 ],
 "metadata": {
  "kernelspec": {
   "display_name": "myenv",
   "language": "python",
   "name": "python3"
  },
  "language_info": {
   "codemirror_mode": {
    "name": "ipython",
    "version": 3
   },
   "file_extension": ".py",
   "mimetype": "text/x-python",
   "name": "python",
   "nbconvert_exporter": "python",
   "pygments_lexer": "ipython3",
   "version": "3.11.10"
  }
 },
 "nbformat": 4,
 "nbformat_minor": 5
}
